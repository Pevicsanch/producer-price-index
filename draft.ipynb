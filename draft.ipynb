{
 "cells": [
  {
   "cell_type": "markdown",
   "metadata": {},
   "source": [
    "# A Producer price index"
   ]
  },
  {
   "cell_type": "markdown",
   "metadata": {},
   "source": [
    "## Introduction\n",
    "\n"
   ]
  },
  {
   "cell_type": "code",
   "execution_count": 1,
   "metadata": {},
   "outputs": [],
   "source": [
    "# importing libraries\n",
    "import pandas as pd\n",
    "import numpy as np\n",
    "import matplotlib.pyplot as plt\n",
    "import seaborn as sns\n",
    "import os\n",
    "import warnings\n",
    "warnings.filterwarnings('ignore')\n"
   ]
  },
  {
   "cell_type": "code",
   "execution_count": 2,
   "metadata": {},
   "outputs": [
    {
     "name": "stdout",
     "output_type": "stream",
     "text": [
      "The calculated PPI is: 110.00000000000001\n"
     ]
    }
   ],
   "source": [
    "#defining a function to calculate the PPI\n",
    "\n",
    "def calculate_ppi(base_prices, current_prices, weights):\n",
    "    \"\"\"\n",
    "    Calculate the Producer Price Index (PPI).\n",
    "    \n",
    "    :param base_prices: Dictionary of prices during the base period.\n",
    "    :param current_prices: Dictionary of prices during the current period.\n",
    "    :param weights: Dictionary of weights for the goods.\n",
    "    :return: PPI as a percentage.\n",
    "    \"\"\"\n",
    "    \n",
    "    # Verify that every good has an assigned weight and a price for both periods\n",
    "    goods = weights.keys()\n",
    "    if not all(good in base_prices and good in current_prices for good in goods):\n",
    "        raise ValueError(\"Every good must have base and current prices, and an assigned weight.\")\n",
    "    \n",
    "    # Calculate the PPI\n",
    "    ppi_base = sum(base_prices[good] * weights[good] for good in goods)\n",
    "    ppi_current = sum(current_prices[good] * weights[good] for good in goods)\n",
    "    \n",
    "    ppi = (ppi_current / ppi_base) * 100\n",
    "    \n",
    "    return ppi\n",
    "\n",
    "# Example usage:\n",
    "# Replace the following dictionaries with the actual data obtained from your SQL queries\n",
    "base_prices = {'good1': 100, 'good2': 200, 'good3': 150}\n",
    "current_prices = {'good1': 110, 'good2': 220, 'good3': 165}\n",
    "weights = {'good1': 0.5, 'good2': 0.3, 'good3': 0.2}\n",
    "\n"
   ]
  }
 ],
 "metadata": {
  "kernelspec": {
   "display_name": "index_price",
   "language": "python",
   "name": "python3"
  },
  "language_info": {
   "codemirror_mode": {
    "name": "ipython",
    "version": 3
   },
   "file_extension": ".py",
   "mimetype": "text/x-python",
   "name": "python",
   "nbconvert_exporter": "python",
   "pygments_lexer": "ipython3",
   "version": "3.10.8"
  }
 },
 "nbformat": 4,
 "nbformat_minor": 2
}
